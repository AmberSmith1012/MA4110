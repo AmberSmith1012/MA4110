{
 "cells": [
  {
   "cell_type": "code",
   "execution_count": 1,
   "metadata": {
    "id": "YiQlqVHwP8Ud"
   },
   "outputs": [],
   "source": [
    "import matplotlib\n",
    "from datascience import *\n",
    "%matplotlib inline\n",
    "import matplotlib.pyplot as plots\n",
    "import numpy as np\n",
    "plots.style.use('fivethirtyeight')"
   ]
  },
  {
   "cell_type": "markdown",
   "metadata": {},
   "source": [
    "# Normal Distributions"
   ]
  },
  {
   "cell_type": "markdown",
   "metadata": {
    "id": "8dEICq7IP8Vo"
   },
   "source": [
    "## Standard Units ##"
   ]
  },
  {
   "cell_type": "code",
   "execution_count": 2,
   "metadata": {},
   "outputs": [
    {
     "data": {
      "text/html": [
       "<table border=\"1\" class=\"dataframe\">\n",
       "    <thead>\n",
       "        <tr>\n",
       "            <th>Birth Weight</th> <th>Gestational Days</th> <th>Maternal Age</th> <th>Maternal Height</th> <th>Maternal Pregnancy Weight</th> <th>Maternal Smoker</th>\n",
       "        </tr>\n",
       "    </thead>\n",
       "    <tbody>\n",
       "        <tr>\n",
       "            <td>120         </td> <td>284             </td> <td>27          </td> <td>62             </td> <td>100                      </td> <td>False          </td>\n",
       "        </tr>\n",
       "        <tr>\n",
       "            <td>113         </td> <td>282             </td> <td>33          </td> <td>64             </td> <td>135                      </td> <td>False          </td>\n",
       "        </tr>\n",
       "        <tr>\n",
       "            <td>128         </td> <td>279             </td> <td>28          </td> <td>64             </td> <td>115                      </td> <td>True           </td>\n",
       "        </tr>\n",
       "    </tbody>\n",
       "</table>\n",
       "<p>... (1171 rows omitted)</p>"
      ],
      "text/plain": [
       "<IPython.core.display.HTML object>"
      ]
     },
     "metadata": {},
     "output_type": "display_data"
    }
   ],
   "source": [
    "# Read in births data set\n",
    "births = Table.read_table('data/baby.csv')\n",
    "births.show(3)"
   ]
  },
  {
   "cell_type": "code",
   "execution_count": 3,
   "metadata": {},
   "outputs": [],
   "source": [
    "# A function to convert an array to standard units\n",
    "def standard_units(x):\n",
    "    \"\"\"Convert array x to standard units.\"\"\"\n",
    "    return (x - np.mean(x)) / np.std(x)"
   ]
  },
  {
   "cell_type": "code",
   "execution_count": 4,
   "metadata": {},
   "outputs": [
    {
     "data": {
      "text/plain": [
       "array([27, 33, 28, ..., 30, 21, 38])"
      ]
     },
     "execution_count": 4,
     "metadata": {},
     "output_type": "execute_result"
    }
   ],
   "source": [
    "# Create an array to hold the maternal ages\n",
    "ages = births.column('Maternal Age')\n",
    "ages"
   ]
  },
  {
   "cell_type": "code",
   "execution_count": 5,
   "metadata": {},
   "outputs": [
    {
     "name": "stdout",
     "output_type": "stream",
     "text": [
      "[-0.03925456  0.99249577  0.13270383 ...  0.47662061 -1.07100488\n",
      "  1.85228771]\n"
     ]
    }
   ],
   "source": [
    "# Convert the maternal ages to standard units\n",
    "ages_standard_units = standard_units(ages)\n",
    "print(ages_standard_units)"
   ]
  },
  {
   "cell_type": "code",
   "execution_count": 6,
   "metadata": {},
   "outputs": [
    {
     "data": {
      "text/plain": [
       "(-7.868020072300939e-17, 1.0)"
      ]
     },
     "execution_count": 6,
     "metadata": {},
     "output_type": "execute_result"
    }
   ],
   "source": [
    "# Verify that the mean is 0 and standard deviation is 1\n",
    "np.mean(ages_standard_units), np.std(ages_standard_units)"
   ]
  },
  {
   "cell_type": "code",
   "execution_count": 7,
   "metadata": {},
   "outputs": [
    {
     "data": {
      "text/html": [
       "<table border=\"1\" class=\"dataframe\">\n",
       "    <thead>\n",
       "        <tr>\n",
       "            <th>Age in Years</th> <th>Age in Standard Units</th>\n",
       "        </tr>\n",
       "    </thead>\n",
       "    <tbody>\n",
       "        <tr>\n",
       "            <td>27          </td> <td>-0.0392546           </td>\n",
       "        </tr>\n",
       "        <tr>\n",
       "            <td>33          </td> <td>0.992496             </td>\n",
       "        </tr>\n",
       "        <tr>\n",
       "            <td>28          </td> <td>0.132704             </td>\n",
       "        </tr>\n",
       "        <tr>\n",
       "            <td>23          </td> <td>-0.727088            </td>\n",
       "        </tr>\n",
       "        <tr>\n",
       "            <td>25          </td> <td>-0.383171            </td>\n",
       "        </tr>\n",
       "        <tr>\n",
       "            <td>33          </td> <td>0.992496             </td>\n",
       "        </tr>\n",
       "        <tr>\n",
       "            <td>23          </td> <td>-0.727088            </td>\n",
       "        </tr>\n",
       "        <tr>\n",
       "            <td>25          </td> <td>-0.383171            </td>\n",
       "        </tr>\n",
       "        <tr>\n",
       "            <td>30          </td> <td>0.476621             </td>\n",
       "        </tr>\n",
       "        <tr>\n",
       "            <td>27          </td> <td>-0.0392546           </td>\n",
       "        </tr>\n",
       "    </tbody>\n",
       "</table>\n",
       "<p>... (1164 rows omitted)</p>"
      ],
      "text/plain": [
       "Age in Years | Age in Standard Units\n",
       "27           | -0.0392546\n",
       "33           | 0.992496\n",
       "28           | 0.132704\n",
       "23           | -0.727088\n",
       "25           | -0.383171\n",
       "33           | 0.992496\n",
       "23           | -0.727088\n",
       "25           | -0.383171\n",
       "30           | 0.476621\n",
       "27           | -0.0392546\n",
       "... (1164 rows omitted)"
      ]
     },
     "execution_count": 7,
     "metadata": {},
     "output_type": "execute_result"
    }
   ],
   "source": [
    "# Create a table with both original and standard units\n",
    "both = Table().with_columns('Age in Years', ages, 'Age in Standard Units', ages_standard_units)\n",
    "both"
   ]
  },
  {
   "cell_type": "code",
   "execution_count": 8,
   "metadata": {},
   "outputs": [
    {
     "data": {
      "text/plain": [
       "(27.228279386712096, 5.815360404190897)"
      ]
     },
     "execution_count": 8,
     "metadata": {},
     "output_type": "execute_result"
    }
   ],
   "source": [
    "# Display average and and standard deviation in original units\n",
    "np.mean(ages), np.std(ages)"
   ]
  },
  {
   "cell_type": "code",
   "execution_count": 9,
   "metadata": {},
   "outputs": [
    {
     "data": {
      "image/png": "[encoded data removed]",
      "text/plain": [
       "<Figure size 432x288 with 1 Axes>"
      ]
     },
     "metadata": {},
     "output_type": "display_data"
    }
   ],
   "source": [
    "both.hist('Age in Years', bins = np.arange(15, 46, 2))"
   ]
  },
  {
   "cell_type": "code",
   "execution_count": 10,
   "metadata": {
    "id": "Kaza_BQeP8V2"
   },
   "outputs": [
    {
     "data": {
      "image/png": "[encoded data removed]",
      "text/plain": [
       "<Figure size 432x288 with 1 Axes>"
      ]
     },
     "metadata": {},
     "output_type": "display_data"
    }
   ],
   "source": [
    "# Confirm distributions are the same shape in standard units\n",
    "both.hist('Age in Standard Units', bins = np.arange(-2.2, 3.4, 0.35))\n",
    "plots.xlim(-2, 3.1);"
   ]
  },
  {
   "cell_type": "markdown",
   "metadata": {
    "id": "GQ6OFjVSP8V3"
   },
   "source": [
    "## The SD and Bell Shaped Curves"
   ]
  },
  {
   "cell_type": "code",
   "execution_count": 11,
   "metadata": {
    "id": "uIawF7MUP8V4"
   },
   "outputs": [
    {
     "data": {
      "image/png": "[encoded data removed]",
      "text/plain": [
       "<Figure size 432x288 with 1 Axes>"
      ]
     },
     "metadata": {},
     "output_type": "display_data"
    }
   ],
   "source": [
    "births.hist('Maternal Height', bins = np.arange(56.5, 72.6, 1))"
   ]
  },
  {
   "cell_type": "code",
   "execution_count": 12,
   "metadata": {
    "id": "XyVEZyzzP8V6"
   },
   "outputs": [
    {
     "data": {
      "text/plain": [
       "(64.04940374787053, 2.5250254409674375)"
      ]
     },
     "execution_count": 12,
     "metadata": {},
     "output_type": "execute_result"
    }
   ],
   "source": [
    "# Compute the mean and standard deviation\n",
    "heights = births.column('Maternal Height')\n",
    "np.mean(heights), np.std(heights)"
   ]
  },
  {
   "cell_type": "code",
   "execution_count": 13,
   "metadata": {
    "id": "qmlEV3rHP8V9"
   },
   "outputs": [
    {
     "data": {
      "text/plain": [
       "(66.57442918883797, 61.52437830690309)"
      ]
     },
     "execution_count": 13,
     "metadata": {},
     "output_type": "execute_result"
    }
   ],
   "source": [
    "# Estimate the inflection points\n",
    "np.mean(heights) + np.std(heights), np.mean(heights) - np.std(heights)"
   ]
  },
  {
   "cell_type": "markdown",
   "metadata": {
    "id": "QJGRXHuWQAPe"
   },
   "source": [
    "## Central Limit Theorem ##"
   ]
  },
  {
   "cell_type": "code",
   "execution_count": 14,
   "metadata": {
    "id": "2aLVG45mQAPf"
   },
   "outputs": [
    {
     "data": {
      "text/html": [
       "<table border=\"1\" class=\"dataframe\">\n",
       "    <thead>\n",
       "        <tr>\n",
       "            <th>Date</th> <th>Flight Number</th> <th>Destination</th> <th>Delay</th>\n",
       "        </tr>\n",
       "    </thead>\n",
       "    <tbody>\n",
       "        <tr>\n",
       "            <td>6/1/15</td> <td>73           </td> <td>HNL        </td> <td>257  </td>\n",
       "        </tr>\n",
       "        <tr>\n",
       "            <td>6/1/15</td> <td>217          </td> <td>EWR        </td> <td>28   </td>\n",
       "        </tr>\n",
       "        <tr>\n",
       "            <td>6/1/15</td> <td>237          </td> <td>STL        </td> <td>-3   </td>\n",
       "        </tr>\n",
       "        <tr>\n",
       "            <td>6/1/15</td> <td>250          </td> <td>SAN        </td> <td>0    </td>\n",
       "        </tr>\n",
       "        <tr>\n",
       "            <td>6/1/15</td> <td>267          </td> <td>PHL        </td> <td>64   </td>\n",
       "        </tr>\n",
       "        <tr>\n",
       "            <td>6/1/15</td> <td>273          </td> <td>SEA        </td> <td>-6   </td>\n",
       "        </tr>\n",
       "        <tr>\n",
       "            <td>6/1/15</td> <td>278          </td> <td>SEA        </td> <td>-8   </td>\n",
       "        </tr>\n",
       "        <tr>\n",
       "            <td>6/1/15</td> <td>292          </td> <td>EWR        </td> <td>12   </td>\n",
       "        </tr>\n",
       "        <tr>\n",
       "            <td>6/1/15</td> <td>300          </td> <td>HNL        </td> <td>20   </td>\n",
       "        </tr>\n",
       "        <tr>\n",
       "            <td>6/1/15</td> <td>317          </td> <td>IND        </td> <td>-10  </td>\n",
       "        </tr>\n",
       "    </tbody>\n",
       "</table>\n",
       "<p>... (13815 rows omitted)</p>"
      ],
      "text/plain": [
       "Date   | Flight Number | Destination | Delay\n",
       "6/1/15 | 73            | HNL         | 257\n",
       "6/1/15 | 217           | EWR         | 28\n",
       "6/1/15 | 237           | STL         | -3\n",
       "6/1/15 | 250           | SAN         | 0\n",
       "6/1/15 | 267           | PHL         | 64\n",
       "6/1/15 | 273           | SEA         | -6\n",
       "6/1/15 | 278           | SEA         | -8\n",
       "6/1/15 | 292           | EWR         | 12\n",
       "6/1/15 | 300           | HNL         | 20\n",
       "6/1/15 | 317           | IND         | -10\n",
       "... (13815 rows omitted)"
      ]
     },
     "execution_count": 14,
     "metadata": {},
     "output_type": "execute_result"
    }
   ],
   "source": [
    "# Read in United data\n",
    "united = Table.read_table('data/united.csv')\n",
    "united_bins = np.arange(-20, 300, 10)\n",
    "united"
   ]
  },
  {
   "cell_type": "code",
   "execution_count": 15,
   "metadata": {
    "id": "S74hP5BVQAPh"
   },
   "outputs": [
    {
     "data": {
      "image/png": "[encoded data removed]",
      "text/plain": [
       "<Figure size 432x288 with 1 Axes>"
      ]
     },
     "metadata": {},
     "output_type": "display_data"
    }
   ],
   "source": [
    "# Inspect histogram of the Delay column\n",
    "united.hist('Delay', bins=united_bins)"
   ]
  },
  {
   "cell_type": "code",
   "execution_count": 16,
   "metadata": {
    "id": "xBZvFxp6QAPj"
   },
   "outputs": [
    {
     "data": {
      "text/plain": [
       "(16.658155515370705, 39.480199851609314)"
      ]
     },
     "execution_count": 16,
     "metadata": {},
     "output_type": "execute_result"
    }
   ],
   "source": [
    "# Determine mean and sd of the Delay column\n",
    "delays = united.column('Delay')\n",
    "delay_mean = np.mean(delays)\n",
    "delay_sd = np.std(delays)\n",
    "delay_mean, delay_sd"
   ]
  },
  {
   "cell_type": "code",
   "execution_count": 17,
   "metadata": {
    "id": "p1pd2bpWQAPo"
   },
   "outputs": [],
   "source": [
    "def one_sample_mean(sample_size):\n",
    "    \"\"\" Takes a sample from the population of flights and computes its mean\"\"\"\n",
    "    sampled_flights = united.sample(sample_size)\n",
    "    return np.mean(sampled_flights.column('Delay'))"
   ]
  },
  {
   "cell_type": "code",
   "execution_count": 20,
   "metadata": {
    "id": "uwsNx5OQQAPq"
   },
   "outputs": [
    {
     "data": {
      "text/plain": [
       "14.9"
      ]
     },
     "execution_count": 20,
     "metadata": {},
     "output_type": "execute_result"
    }
   ],
   "source": [
    "one_sample_mean(100)"
   ]
  },
  {
   "cell_type": "code",
   "execution_count": 21,
   "metadata": {
    "id": "VLAn8sjHQAPs"
   },
   "outputs": [],
   "source": [
    "def ten_thousand_sample_means(sample_size):\n",
    "    means = make_array()\n",
    "    for i in np.arange(10000):\n",
    "        mean = one_sample_mean(sample_size)\n",
    "        means = np.append(means, mean)\n",
    "    return means\n",
    "#take a sample size of 100, ten thousand times"
   ]
  },
  {
   "cell_type": "code",
   "execution_count": 22,
   "metadata": {
    "id": "yiK0FirUQAPu"
   },
   "outputs": [],
   "source": [
    "# Create an array with 10000 sample means of the Delays\n",
    "sample_means_100 = ten_thousand_sample_means(100)"
   ]
  },
  {
   "cell_type": "code",
   "execution_count": 23,
   "metadata": {
    "id": "OuFHVFFLQAPx"
   },
   "outputs": [
    {
     "data": {
      "text/plain": [
       "array([18.81, 13.11, 17.37, ..., 15.75, 16.63, 16.12])"
      ]
     },
     "execution_count": 23,
     "metadata": {},
     "output_type": "execute_result"
    }
   ],
   "source": [
    "# Inspect the array of sample means\n",
    "sample_means_100"
   ]
  },
  {
   "cell_type": "code",
   "execution_count": 24,
   "metadata": {
    "id": "fp6_gEA1QAPz"
   },
   "outputs": [
    {
     "data": {
      "text/plain": [
       "10000"
      ]
     },
     "execution_count": 24,
     "metadata": {},
     "output_type": "execute_result"
    }
   ],
   "source": [
    "# Verify there are 10000 sample means\n",
    "len(sample_means_100)"
   ]
  },
  {
   "cell_type": "code",
   "execution_count": 25,
   "metadata": {
    "id": "0o0HrtV7QAP1"
   },
   "outputs": [
    {
     "name": "stdout",
     "output_type": "stream",
     "text": [
      "Population Average: 16.658155515370705\n"
     ]
    },
    {
     "data": {
      "image/png": "[encoded data removed]",
      "text/plain": [
       "<Figure size 432x288 with 1 Axes>"
      ]
     },
     "metadata": {},
     "output_type": "display_data"
    }
   ],
   "source": [
    "# Inspect the histogram of the 10,000 samples of flight delays\n",
    "Table().with_column('Mean of 100 flight delays', sample_means_100).hist(bins=20)\n",
    "print('Population Average:', delay_mean)"
   ]
  },
  {
   "cell_type": "code",
   "execution_count": 26,
   "metadata": {
    "id": "mmFYXcDxQAP3"
   },
   "outputs": [
    {
     "name": "stdout",
     "output_type": "stream",
     "text": [
      "Population Average: 16.658155515370705\n"
     ]
    },
    {
     "data": {
      "image/png": "[encoded data removed]",
      "text/plain": [
       "<Figure size 432x288 with 1 Axes>"
      ]
     },
     "metadata": {},
     "output_type": "display_data"
    }
   ],
   "source": [
    "# How does increasing the sample size impact the distribution?\n",
    "sample_means_400 = ten_thousand_sample_means(400)\n",
    "Table().with_column('Mean of 400 flight delays', sample_means_400).hist(bins=20)\n",
    "print('Population Average:', delay_mean)"
   ]
  },
  {
   "cell_type": "code",
   "execution_count": 27,
   "metadata": {
    "id": "W2OENcoMQAP5"
   },
   "outputs": [
    {
     "name": "stdout",
     "output_type": "stream",
     "text": [
      "Population Average: 16.658155515370705\n"
     ]
    },
    {
     "data": {
      "image/png": "[encoded data removed]",
      "text/plain": [
       "<Figure size 432x288 with 1 Axes>"
      ]
     },
     "metadata": {},
     "output_type": "display_data"
    }
   ],
   "source": [
    "# How does increasing the sample size impact the distribution?\n",
    "sample_means_900 = ten_thousand_sample_means(900)\n",
    "Table().with_column('Mean of 900 flight delays', sample_means_900).hist(bins=20)\n",
    "print('Population Average:', delay_mean)"
   ]
  },
  {
   "cell_type": "code",
   "execution_count": 28,
   "metadata": {},
   "outputs": [
    {
     "data": {
      "image/png": "[encoded data removed]",
      "text/plain": [
       "<Figure size 432x288 with 1 Axes>"
      ]
     },
     "metadata": {},
     "output_type": "display_data"
    }
   ],
   "source": [
    "Table().with_columns('100', sample_means_100, '400',sample_means_400, '900', sample_means_900).hist(bins=40)"
   ]
  },
  {
   "cell_type": "code",
   "execution_count": null,
   "metadata": {},
   "outputs": [],
   "source": []
  }
 ],
 "metadata": {
  "anaconda-cloud": {},
  "colab": {
   "name": "lec26.ipynb",
   "provenance": []
  },
  "kernelspec": {
   "display_name": "Python 3 (ipykernel)",
   "language": "python",
   "name": "python3"
  },
  "language_info": {
   "codemirror_mode": {
    "name": "ipython",
    "version": 3
   },
   "file_extension": ".py",
   "mimetype": "text/x-python",
   "name": "python",
   "nbconvert_exporter": "python",
   "pygments_lexer": "ipython3",
   "version": "3.9.6"
  }
 },
 "nbformat": 4,
 "nbformat_minor": 4
}
