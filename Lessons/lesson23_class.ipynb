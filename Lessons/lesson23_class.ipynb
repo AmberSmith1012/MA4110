{
 "cells": [
  {
   "cell_type": "code",
   "execution_count": null,
   "metadata": {},
   "outputs": [],
   "source": [
    "from datascience import *\n",
    "%matplotlib inline\n",
    "import matplotlib.pyplot as plots\n",
    "plots.style.use('fivethirtyeight')\n",
    "import numpy as np"
   ]
  },
  {
   "cell_type": "markdown",
   "metadata": {},
   "source": [
    "## Lesson 23: Confidence Intervals ##"
   ]
  },
  {
   "cell_type": "markdown",
   "metadata": {},
   "source": [
    "### Percentiles"
   ]
  },
  {
   "cell_type": "code",
   "execution_count": null,
   "metadata": {},
   "outputs": [],
   "source": [
    "# Manually compute the 55th percentile.\n",
    "x = make_array(43, 20, 51, 7, 28, 34)\n",
    "x"
   ]
  },
  {
   "cell_type": "code",
   "execution_count": null,
   "metadata": {},
   "outputs": [],
   "source": [
    "# Step 1. Sort the data\n",
    "..."
   ]
  },
  {
   "cell_type": "code",
   "execution_count": null,
   "metadata": {},
   "outputs": [],
   "source": [
    "# Step 2. Figure out where 55th percentile would be."
   ]
  },
  {
   "cell_type": "code",
   "execution_count": null,
   "metadata": {},
   "outputs": [],
   "source": [
    "# OR: 1 Line of Code\n",
    "..."
   ]
  },
  {
   "cell_type": "code",
   "execution_count": null,
   "metadata": {},
   "outputs": [],
   "source": [
    "# If we tried to manually compute which element to take...\n",
    "..."
   ]
  },
  {
   "cell_type": "markdown",
   "metadata": {},
   "source": [
    "### Sample Median"
   ]
  },
  {
   "cell_type": "code",
   "execution_count": null,
   "metadata": {},
   "outputs": [],
   "source": [
    "sf = Table.read_table('data/san_francisco_2015.csv')\n",
    "sf"
   ]
  },
  {
   "cell_type": "code",
   "execution_count": null,
   "metadata": {},
   "outputs": [],
   "source": [
    "# Who is making the most money\n",
    "..."
   ]
  },
  {
   "cell_type": "code",
   "execution_count": null,
   "metadata": {},
   "outputs": [],
   "source": [
    "# Who is making the least money\n",
    "..."
   ]
  },
  {
   "cell_type": "code",
   "execution_count": null,
   "metadata": {},
   "outputs": [],
   "source": [
    "# Keep only individuals that are working half-time or more\n",
    "# $10 an hour, 20 hours a week, 52 weeks a year\n",
    "..."
   ]
  },
  {
   "cell_type": "code",
   "execution_count": null,
   "metadata": {},
   "outputs": [],
   "source": [
    "# What's the median of the population?\n",
    "pop_median = ...\n",
    "pop_median"
   ]
  },
  {
   "cell_type": "code",
   "execution_count": null,
   "metadata": {},
   "outputs": [],
   "source": [
    "# Create a sample from the population\n",
    "our_sample = ...\n",
    "our_sample.show(5)"
   ]
  },
  {
   "cell_type": "code",
   "execution_count": null,
   "metadata": {},
   "outputs": [],
   "source": [
    "percentile(50, our_sample.column('Total Compensation'))"
   ]
  },
  {
   "cell_type": "code",
   "execution_count": null,
   "metadata": {},
   "outputs": [],
   "source": [
    "#create a histogram showing the total compensation and using the \n",
    "#given bins\n",
    "sf_bins = np.arange(0, 700000, 25000)\n",
    "...\n",
    "plots.title('Population Distribution');"
   ]
  },
  {
   "cell_type": "code",
   "execution_count": null,
   "metadata": {},
   "outputs": [],
   "source": [
    "our_sample.hist('Total Compensation', bins=sf_bins)\n",
    "plots.title('Sample Distribution');"
   ]
  },
  {
   "cell_type": "markdown",
   "metadata": {},
   "source": [
    "# Variability of the Estimate"
   ]
  },
  {
   "cell_type": "code",
   "execution_count": null,
   "metadata": {},
   "outputs": [],
   "source": [
    "#create a function called generate_sample_median\n",
    "#takes a sample size\n",
    "#returns the median using percentile\n",
    "def generate_sample_median(...):\n",
    "    ...\n",
    "    return ..."
   ]
  },
  {
   "cell_type": "code",
   "execution_count": null,
   "metadata": {},
   "outputs": [],
   "source": [
    "#use the function generate_sample_median to find the median of a \n",
    "#sample size of 300\n",
    "sample_median = \n",
    "sample_median"
   ]
  },
  {
   "cell_type": "code",
   "execution_count": null,
   "metadata": {},
   "outputs": [],
   "source": [
    "#find the error between the sample median and the population median\n",
    "error = ...\n",
    "error"
   ]
  },
  {
   "cell_type": "markdown",
   "metadata": {},
   "source": [
    "# Quantifying Uncertainty"
   ]
  },
  {
   "cell_type": "code",
   "execution_count": null,
   "metadata": {},
   "outputs": [],
   "source": [
    "#simulate the sample median 1000 by using the generate_sample_median \n",
    "#function \n",
    "\n",
    "sample_medians = make_array()\n",
    "\n",
    "... :\n",
    "    new_median = ...\n",
    "    sample_medians = ..."
   ]
  },
  {
   "cell_type": "code",
   "execution_count": null,
   "metadata": {},
   "outputs": [],
   "source": [
    "med_bins = np.arange(90000, 125001, 2500)\n",
    "Table().with_column('Sample Medians', sample_medians).hist(bins = med_bins)\n",
    "\n",
    "plots.scatter(pop_median, -0.000001, marker=\"^\", color=\"red\");"
   ]
  },
  {
   "cell_type": "code",
   "execution_count": null,
   "metadata": {},
   "outputs": [],
   "source": [
    "err_bins = np.arange(-15000, 12501, 2500)\n",
    "Table().with_column('Errors', sample_medians - pop_median).hist(bins = err_bins)\n",
    "\n",
    "plots.scatter(0, -0.000001, marker=\"^\", color=\"red\");"
   ]
  },
  {
   "cell_type": "markdown",
   "metadata": {},
   "source": [
    "# Bootstrap"
   ]
  },
  {
   "cell_type": "code",
   "execution_count": null,
   "metadata": {},
   "outputs": [],
   "source": [
    "# Take a bootstrap (re)sample of size 300, WITH replacement from our_sample\n",
    "boot_sample = ...\n",
    "boot_sample.hist('Total Compensation', bins=sf_bins)\n",
    "plots.title('Bootstrap sample');\n",
    "\n",
    "print(\"Population Median =       \", pop_median)\n",
    "print(\"Our Sample Median =       \", sample_median)\n",
    "print(\"Bootstrap Sample Median = \", \n",
    "      percentile(50,boot_sample.column('Total Compensation')))"
   ]
  },
  {
   "cell_type": "code",
   "execution_count": null,
   "metadata": {},
   "outputs": [],
   "source": [
    "#create a function called one_bootstrap_median\n",
    "#take a sample of our_sample\n",
    "#return the median using percentile\n",
    "def one_bootstrap_median():\n",
    "    single_sample = ...\n",
    "    return ... "
   ]
  },
  {
   "cell_type": "code",
   "execution_count": null,
   "metadata": {},
   "outputs": [],
   "source": [
    "#simulate 1000 samples\n",
    "bootstrap_medians = ...\n",
    "...:\n",
    "    new_median = one_bootstrap_median()\n",
    "    bootstrap_medians = ...)"
   ]
  },
  {
   "cell_type": "code",
   "execution_count": null,
   "metadata": {},
   "outputs": [],
   "source": [
    "Table().with_column(\n",
    "    'Bootstrap Medians', bootstrap_medians\n",
    ").hist('Bootstrap Medians', bins=med_bins)\n",
    "\n",
    "plots.scatter(pop_median, -0.000001, marker=\"^\", color=\"red\");\n",
    "plots.scatter(sample_median, -0.000001, marker=\"^\", color=\"blue\");"
   ]
  },
  {
   "cell_type": "markdown",
   "metadata": {},
   "source": [
    "## Confidence Intervals"
   ]
  },
  {
   "cell_type": "code",
   "execution_count": null,
   "metadata": {},
   "outputs": [],
   "source": [
    "# Make an interval based on the middle 95% of bootstrap samples\n",
    "\n",
    "left = ...\n",
    "right = ...\n",
    "\n",
    "Table().with_column(\n",
    "    'Bootstrap Medians', bootstrap_medians\n",
    ").hist('Bootstrap Medians', bins=med_bins)\n",
    "\n",
    "plots.plot([left, right], [0,0], color=\"gold\",lw=3, zorder=1);\n",
    "plots.scatter(pop_median, -0.000001, marker=\"^\", color=\"red\", zorder=2);\n",
    "plots.scatter(sample_median, -0.000001, marker=\"^\", color=\"blue\", zorder=2);\n",
    "\n",
    "print(\"95% Confidence Interval:\",\"[\",left,\",\",right,\"]\")"
   ]
  }
 ],
 "metadata": {
  "anaconda-cloud": {},
  "kernelspec": {
   "display_name": "Python 3 (ipykernel)",
   "language": "python",
   "name": "python3"
  },
  "language_info": {
   "codemirror_mode": {
    "name": "ipython",
    "version": 3
   },
   "file_extension": ".py",
   "mimetype": "text/x-python",
   "name": "python",
   "nbconvert_exporter": "python",
   "pygments_lexer": "ipython3",
   "version": "3.9.6"
  }
 },
 "nbformat": 4,
 "nbformat_minor": 4
}
