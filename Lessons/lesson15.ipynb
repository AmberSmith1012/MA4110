{
 "cells": [
  {
   "cell_type": "code",
   "execution_count": 5,
   "metadata": {},
   "outputs": [],
   "source": [
    "from datascience import *\n",
    "import numpy as np\n",
    "\n",
    "%matplotlib inline\n",
    "import matplotlib.pyplot as plots\n",
    "plots.style.use('fivethirtyeight')"
   ]
  },
  {
   "cell_type": "markdown",
   "metadata": {},
   "source": [
    "## Lesson 15: Sampling "
   ]
  },
  {
   "cell_type": "code",
   "execution_count": 6,
   "metadata": {},
   "outputs": [
    {
     "data": {
      "text/html": [
       "<table border=\"1\" class=\"dataframe\">\n",
       "    <thead>\n",
       "        <tr>\n",
       "            <th>Row</th> <th>Date</th> <th>Flight Number</th> <th>Destination</th> <th>Delay</th>\n",
       "        </tr>\n",
       "    </thead>\n",
       "    <tbody>\n",
       "        <tr>\n",
       "            <td>0   </td> <td>6/1/15</td> <td>73           </td> <td>HNL        </td> <td>257  </td>\n",
       "        </tr>\n",
       "        <tr>\n",
       "            <td>1   </td> <td>6/1/15</td> <td>217          </td> <td>EWR        </td> <td>28   </td>\n",
       "        </tr>\n",
       "        <tr>\n",
       "            <td>2   </td> <td>6/1/15</td> <td>237          </td> <td>STL        </td> <td>-3   </td>\n",
       "        </tr>\n",
       "        <tr>\n",
       "            <td>3   </td> <td>6/1/15</td> <td>250          </td> <td>SAN        </td> <td>0    </td>\n",
       "        </tr>\n",
       "        <tr>\n",
       "            <td>4   </td> <td>6/1/15</td> <td>267          </td> <td>PHL        </td> <td>64   </td>\n",
       "        </tr>\n",
       "        <tr>\n",
       "            <td>5   </td> <td>6/1/15</td> <td>273          </td> <td>SEA        </td> <td>-6   </td>\n",
       "        </tr>\n",
       "        <tr>\n",
       "            <td>6   </td> <td>6/1/15</td> <td>278          </td> <td>SEA        </td> <td>-8   </td>\n",
       "        </tr>\n",
       "        <tr>\n",
       "            <td>7   </td> <td>6/1/15</td> <td>292          </td> <td>EWR        </td> <td>12   </td>\n",
       "        </tr>\n",
       "        <tr>\n",
       "            <td>8   </td> <td>6/1/15</td> <td>300          </td> <td>HNL        </td> <td>20   </td>\n",
       "        </tr>\n",
       "        <tr>\n",
       "            <td>9   </td> <td>6/1/15</td> <td>317          </td> <td>IND        </td> <td>-10  </td>\n",
       "        </tr>\n",
       "    </tbody>\n",
       "</table>\n",
       "<p>... (13815 rows omitted)</p>"
      ],
      "text/plain": [
       "Row  | Date   | Flight Number | Destination | Delay\n",
       "0    | 6/1/15 | 73            | HNL         | 257\n",
       "1    | 6/1/15 | 217           | EWR         | 28\n",
       "2    | 6/1/15 | 237           | STL         | -3\n",
       "3    | 6/1/15 | 250           | SAN         | 0\n",
       "4    | 6/1/15 | 267           | PHL         | 64\n",
       "5    | 6/1/15 | 273           | SEA         | -6\n",
       "6    | 6/1/15 | 278           | SEA         | -8\n",
       "7    | 6/1/15 | 292           | EWR         | 12\n",
       "8    | 6/1/15 | 300           | HNL         | 20\n",
       "9    | 6/1/15 | 317           | IND         | -10\n",
       "... (13815 rows omitted)"
      ]
     },
     "execution_count": 6,
     "metadata": {},
     "output_type": "execute_result"
    }
   ],
   "source": [
    "united = Table.read_table('data/united.csv')\n",
    "united = united.with_column('Row', np.arange(united.num_rows)).move_to_start('Row')\n",
    "united"
   ]
  },
  {
   "cell_type": "markdown",
   "metadata": {},
   "source": [
    "## Non-Random (Deterministic) Sampling ##"
   ]
  },
  {
   "cell_type": "code",
   "execution_count": 7,
   "metadata": {},
   "outputs": [
    {
     "data": {
      "text/html": [
       "<table border=\"1\" class=\"dataframe\">\n",
       "    <thead>\n",
       "        <tr>\n",
       "            <th>Row</th> <th>Date</th> <th>Flight Number</th> <th>Destination</th> <th>Delay</th>\n",
       "        </tr>\n",
       "    </thead>\n",
       "    <tbody>\n",
       "        <tr>\n",
       "            <td>26  </td> <td>6/1/15</td> <td>502          </td> <td>JFK        </td> <td>-4   </td>\n",
       "        </tr>\n",
       "        <tr>\n",
       "            <td>33  </td> <td>6/1/15</td> <td>637          </td> <td>JFK        </td> <td>141  </td>\n",
       "        </tr>\n",
       "        <tr>\n",
       "            <td>39  </td> <td>6/1/15</td> <td>704          </td> <td>JFK        </td> <td>-8   </td>\n",
       "        </tr>\n",
       "        <tr>\n",
       "            <td>50  </td> <td>6/1/15</td> <td>758          </td> <td>JFK        </td> <td>-5   </td>\n",
       "        </tr>\n",
       "        <tr>\n",
       "            <td>51  </td> <td>6/1/15</td> <td>760          </td> <td>JFK        </td> <td>352  </td>\n",
       "        </tr>\n",
       "        <tr>\n",
       "            <td>56  </td> <td>6/1/15</td> <td>824          </td> <td>JFK        </td> <td>3    </td>\n",
       "        </tr>\n",
       "        <tr>\n",
       "            <td>57  </td> <td>6/1/15</td> <td>898          </td> <td>JFK        </td> <td>290  </td>\n",
       "        </tr>\n",
       "        <tr>\n",
       "            <td>179 </td> <td>6/2/15</td> <td>502          </td> <td>JFK        </td> <td>0    </td>\n",
       "        </tr>\n",
       "        <tr>\n",
       "            <td>188 </td> <td>6/2/15</td> <td>637          </td> <td>JFK        </td> <td>202  </td>\n",
       "        </tr>\n",
       "        <tr>\n",
       "            <td>194 </td> <td>6/2/15</td> <td>704          </td> <td>JFK        </td> <td>-11  </td>\n",
       "        </tr>\n",
       "    </tbody>\n",
       "</table>\n",
       "<p>... (593 rows omitted)</p>"
      ],
      "text/plain": [
       "Row  | Date   | Flight Number | Destination | Delay\n",
       "26   | 6/1/15 | 502           | JFK         | -4\n",
       "33   | 6/1/15 | 637           | JFK         | 141\n",
       "39   | 6/1/15 | 704           | JFK         | -8\n",
       "50   | 6/1/15 | 758           | JFK         | -5\n",
       "51   | 6/1/15 | 760           | JFK         | 352\n",
       "56   | 6/1/15 | 824           | JFK         | 3\n",
       "57   | 6/1/15 | 898           | JFK         | 290\n",
       "179  | 6/2/15 | 502           | JFK         | 0\n",
       "188  | 6/2/15 | 637           | JFK         | 202\n",
       "194  | 6/2/15 | 704           | JFK         | -11\n",
       "... (593 rows omitted)"
      ]
     },
     "execution_count": 7,
     "metadata": {},
     "output_type": "execute_result"
    }
   ],
   "source": [
    "united.where('Destination', 'JFK') "
   ]
  },
  {
   "cell_type": "code",
   "execution_count": 8,
   "metadata": {},
   "outputs": [
    {
     "data": {
      "text/html": [
       "<table border=\"1\" class=\"dataframe\">\n",
       "    <thead>\n",
       "        <tr>\n",
       "            <th>Row</th> <th>Date</th> <th>Flight Number</th> <th>Destination</th> <th>Delay</th>\n",
       "        </tr>\n",
       "    </thead>\n",
       "    <tbody>\n",
       "        <tr>\n",
       "            <td>0   </td> <td>6/1/15 </td> <td>73           </td> <td>HNL        </td> <td>257  </td>\n",
       "        </tr>\n",
       "        <tr>\n",
       "            <td>1000</td> <td>6/7/15 </td> <td>1692         </td> <td>EWR        </td> <td>7    </td>\n",
       "        </tr>\n",
       "        <tr>\n",
       "            <td>2000</td> <td>6/14/15</td> <td>824          </td> <td>JFK        </td> <td>-1   </td>\n",
       "        </tr>\n",
       "        <tr>\n",
       "            <td>3000</td> <td>6/21/15</td> <td>217          </td> <td>EWR        </td> <td>5    </td>\n",
       "        </tr>\n",
       "        <tr>\n",
       "            <td>4000</td> <td>6/27/15</td> <td>1401         </td> <td>SAN        </td> <td>-4   </td>\n",
       "        </tr>\n",
       "        <tr>\n",
       "            <td>5000</td> <td>7/4/15 </td> <td>1614         </td> <td>LAS        </td> <td>-2   </td>\n",
       "        </tr>\n",
       "        <tr>\n",
       "            <td>6000</td> <td>7/11/15</td> <td>401          </td> <td>CLE        </td> <td>4    </td>\n",
       "        </tr>\n",
       "        <tr>\n",
       "            <td>7000</td> <td>7/17/15</td> <td>1645         </td> <td>IAD        </td> <td>0    </td>\n",
       "        </tr>\n",
       "        <tr>\n",
       "            <td>8000</td> <td>7/24/15</td> <td>624          </td> <td>ORD        </td> <td>61   </td>\n",
       "        </tr>\n",
       "        <tr>\n",
       "            <td>9000</td> <td>7/30/15</td> <td>1728         </td> <td>ORD        </td> <td>209  </td>\n",
       "        </tr>\n",
       "    </tbody>\n",
       "</table>\n",
       "<p>... (4 rows omitted)</p>"
      ],
      "text/plain": [
       "Row  | Date    | Flight Number | Destination | Delay\n",
       "0    | 6/1/15  | 73            | HNL         | 257\n",
       "1000 | 6/7/15  | 1692          | EWR         | 7\n",
       "2000 | 6/14/15 | 824           | JFK         | -1\n",
       "3000 | 6/21/15 | 217           | EWR         | 5\n",
       "4000 | 6/27/15 | 1401          | SAN         | -4\n",
       "5000 | 7/4/15  | 1614          | LAS         | -2\n",
       "6000 | 7/11/15 | 401           | CLE         | 4\n",
       "7000 | 7/17/15 | 1645          | IAD         | 0\n",
       "8000 | 7/24/15 | 624           | ORD         | 61\n",
       "9000 | 7/30/15 | 1728          | ORD         | 209\n",
       "... (4 rows omitted)"
      ]
     },
     "execution_count": 8,
     "metadata": {},
     "output_type": "execute_result"
    }
   ],
   "source": [
    "united.take(np.arange(0, united.num_rows, 1000))"
   ]
  },
  {
   "cell_type": "code",
   "execution_count": 9,
   "metadata": {},
   "outputs": [
    {
     "data": {
      "text/html": [
       "<table border=\"1\" class=\"dataframe\">\n",
       "    <thead>\n",
       "        <tr>\n",
       "            <th>Row</th> <th>Date</th> <th>Flight Number</th> <th>Destination</th> <th>Delay</th>\n",
       "        </tr>\n",
       "    </thead>\n",
       "    <tbody>\n",
       "        <tr>\n",
       "            <td>34   </td> <td>6/1/15 </td> <td>650          </td> <td>AUS        </td> <td>44   </td>\n",
       "        </tr>\n",
       "        <tr>\n",
       "            <td>6321 </td> <td>7/13/15</td> <td>1124         </td> <td>SEA        </td> <td>-7   </td>\n",
       "        </tr>\n",
       "        <tr>\n",
       "            <td>10040</td> <td>8/6/15 </td> <td>1216         </td> <td>LAS        </td> <td>2    </td>\n",
       "        </tr>\n",
       "    </tbody>\n",
       "</table>"
      ],
      "text/plain": [
       "Row   | Date    | Flight Number | Destination | Delay\n",
       "34    | 6/1/15  | 650           | AUS         | 44\n",
       "6321  | 7/13/15 | 1124          | SEA         | -7\n",
       "10040 | 8/6/15  | 1216          | LAS         | 2"
      ]
     },
     "execution_count": 9,
     "metadata": {},
     "output_type": "execute_result"
    }
   ],
   "source": [
    "united.take(make_array(34, 6321, 10040))"
   ]
  },
  {
   "cell_type": "markdown",
   "metadata": {},
   "source": [
    "## Random Sample"
   ]
  },
  {
   "cell_type": "markdown",
   "metadata": {},
   "source": [
    "### Systematic Sample"
   ]
  },
  {
   "cell_type": "code",
   "execution_count": 10,
   "metadata": {},
   "outputs": [
    {
     "data": {
      "text/html": [
       "<table border=\"1\" class=\"dataframe\">\n",
       "    <thead>\n",
       "        <tr>\n",
       "            <th>Row</th> <th>Date</th> <th>Flight Number</th> <th>Destination</th> <th>Delay</th>\n",
       "        </tr>\n",
       "    </thead>\n",
       "    <tbody>\n",
       "        <tr>\n",
       "            <td>92   </td> <td>6/1/15 </td> <td>1267         </td> <td>SAN        </td> <td>-1   </td>\n",
       "        </tr>\n",
       "        <tr>\n",
       "            <td>1092 </td> <td>6/8/15 </td> <td>864          </td> <td>BOS        </td> <td>-3   </td>\n",
       "        </tr>\n",
       "        <tr>\n",
       "            <td>2092 </td> <td>6/15/15</td> <td>222          </td> <td>LAX        </td> <td>-1   </td>\n",
       "        </tr>\n",
       "        <tr>\n",
       "            <td>3092 </td> <td>6/21/15</td> <td>1460         </td> <td>EWR        </td> <td>0    </td>\n",
       "        </tr>\n",
       "        <tr>\n",
       "            <td>4092 </td> <td>6/28/15</td> <td>500          </td> <td>EWR        </td> <td>54   </td>\n",
       "        </tr>\n",
       "        <tr>\n",
       "            <td>5092 </td> <td>7/5/15 </td> <td>1060         </td> <td>IAH        </td> <td>-7   </td>\n",
       "        </tr>\n",
       "        <tr>\n",
       "            <td>6092 </td> <td>7/11/15</td> <td>1912         </td> <td>BOS        </td> <td>0    </td>\n",
       "        </tr>\n",
       "        <tr>\n",
       "            <td>7092 </td> <td>7/18/15</td> <td>758          </td> <td>JFK        </td> <td>5    </td>\n",
       "        </tr>\n",
       "        <tr>\n",
       "            <td>8092 </td> <td>7/24/15</td> <td>1742         </td> <td>EWR        </td> <td>183  </td>\n",
       "        </tr>\n",
       "        <tr>\n",
       "            <td>9092 </td> <td>7/31/15</td> <td>1038         </td> <td>LAS        </td> <td>12   </td>\n",
       "        </tr>\n",
       "        <tr>\n",
       "            <td>10092</td> <td>8/6/15 </td> <td>1751         </td> <td>LAS        </td> <td>-3   </td>\n",
       "        </tr>\n",
       "        <tr>\n",
       "            <td>11092</td> <td>8/13/15</td> <td>614          </td> <td>SNA        </td> <td>36   </td>\n",
       "        </tr>\n",
       "        <tr>\n",
       "            <td>12092</td> <td>8/19/15</td> <td>1900         </td> <td>SAN        </td> <td>5    </td>\n",
       "        </tr>\n",
       "        <tr>\n",
       "            <td>13092</td> <td>8/26/15</td> <td>1761         </td> <td>BOS        </td> <td>-1   </td>\n",
       "        </tr>\n",
       "    </tbody>\n",
       "</table>"
      ],
      "text/plain": [
       "<IPython.core.display.HTML object>"
      ]
     },
     "metadata": {},
     "output_type": "display_data"
    }
   ],
   "source": [
    "start = np.random.choice(np.arange(1000))\n",
    "systematic_sample = united.take(np.arange(start, united.num_rows, 1000))\n",
    "systematic_sample.show()"
   ]
  },
  {
   "cell_type": "markdown",
   "metadata": {},
   "source": [
    "### Simple Random Sample"
   ]
  },
  {
   "cell_type": "code",
   "execution_count": 11,
   "metadata": {},
   "outputs": [
    {
     "data": {
      "text/html": [
       "<table border=\"1\" class=\"dataframe\">\n",
       "    <thead>\n",
       "        <tr>\n",
       "            <th>Row</th> <th>Date</th> <th>Flight Number</th> <th>Destination</th> <th>Delay</th>\n",
       "        </tr>\n",
       "    </thead>\n",
       "    <tbody>\n",
       "        <tr>\n",
       "            <td>4730 </td> <td>7/2/15 </td> <td>1149         </td> <td>EWR        </td> <td>1    </td>\n",
       "        </tr>\n",
       "        <tr>\n",
       "            <td>10475</td> <td>8/9/15 </td> <td>1038         </td> <td>LAS        </td> <td>-4   </td>\n",
       "        </tr>\n",
       "        <tr>\n",
       "            <td>6617 </td> <td>7/15/15</td> <td>721          </td> <td>EWR        </td> <td>-6   </td>\n",
       "        </tr>\n",
       "        <tr>\n",
       "            <td>1418 </td> <td>6/10/15</td> <td>1122         </td> <td>HNL        </td> <td>5    </td>\n",
       "        </tr>\n",
       "        <tr>\n",
       "            <td>1296 </td> <td>6/9/15 </td> <td>1583         </td> <td>EWR        </td> <td>10   </td>\n",
       "        </tr>\n",
       "        <tr>\n",
       "            <td>11265</td> <td>8/14/15</td> <td>691          </td> <td>SAN        </td> <td>0    </td>\n",
       "        </tr>\n",
       "        <tr>\n",
       "            <td>2133 </td> <td>6/15/15</td> <td>637          </td> <td>JFK        </td> <td>75   </td>\n",
       "        </tr>\n",
       "        <tr>\n",
       "            <td>4466 </td> <td>6/30/15</td> <td>1608         </td> <td>EWR        </td> <td>99   </td>\n",
       "        </tr>\n",
       "        <tr>\n",
       "            <td>11373</td> <td>8/14/15</td> <td>1947         </td> <td>BWI        </td> <td>0    </td>\n",
       "        </tr>\n",
       "        <tr>\n",
       "            <td>6972 </td> <td>7/17/15</td> <td>1247         </td> <td>SAN        </td> <td>114  </td>\n",
       "        </tr>\n",
       "    </tbody>\n",
       "</table>\n",
       "<p>... (10 rows omitted)</p>"
      ],
      "text/plain": [
       "Row   | Date    | Flight Number | Destination | Delay\n",
       "4730  | 7/2/15  | 1149          | EWR         | 1\n",
       "10475 | 8/9/15  | 1038          | LAS         | -4\n",
       "6617  | 7/15/15 | 721           | EWR         | -6\n",
       "1418  | 6/10/15 | 1122          | HNL         | 5\n",
       "1296  | 6/9/15  | 1583          | EWR         | 10\n",
       "11265 | 8/14/15 | 691           | SAN         | 0\n",
       "2133  | 6/15/15 | 637           | JFK         | 75\n",
       "4466  | 6/30/15 | 1608          | EWR         | 99\n",
       "11373 | 8/14/15 | 1947          | BWI         | 0\n",
       "6972  | 7/17/15 | 1247          | SAN         | 114\n",
       "... (10 rows omitted)"
      ]
     },
     "execution_count": 11,
     "metadata": {},
     "output_type": "execute_result"
    }
   ],
   "source": [
    "united.sample(20)"
   ]
  },
  {
   "cell_type": "code",
   "execution_count": 12,
   "metadata": {},
   "outputs": [
    {
     "data": {
      "text/html": [
       "<table border=\"1\" class=\"dataframe\">\n",
       "    <thead>\n",
       "        <tr>\n",
       "            <th>Row</th> <th>Date</th> <th>Flight Number</th> <th>Destination</th> <th>Delay</th>\n",
       "        </tr>\n",
       "    </thead>\n",
       "    <tbody>\n",
       "        <tr>\n",
       "            <td>13210</td> <td>8/27/15</td> <td>1602         </td> <td>ATL        </td> <td>-4   </td>\n",
       "        </tr>\n",
       "        <tr>\n",
       "            <td>7820 </td> <td>7/23/15</td> <td>477          </td> <td>ORD        </td> <td>-3   </td>\n",
       "        </tr>\n",
       "        <tr>\n",
       "            <td>4986 </td> <td>7/4/15 </td> <td>1159         </td> <td>CLE        </td> <td>-1   </td>\n",
       "        </tr>\n",
       "        <tr>\n",
       "            <td>1573 </td> <td>6/11/15</td> <td>1111         </td> <td>EWR        </td> <td>3    </td>\n",
       "        </tr>\n",
       "        <tr>\n",
       "            <td>7350 </td> <td>7/20/15</td> <td>579          </td> <td>DEN        </td> <td>-3   </td>\n",
       "        </tr>\n",
       "        <tr>\n",
       "            <td>2375 </td> <td>6/16/15</td> <td>1725         </td> <td>OGG        </td> <td>-2   </td>\n",
       "        </tr>\n",
       "        <tr>\n",
       "            <td>5966 </td> <td>7/10/15</td> <td>1946         </td> <td>BOS        </td> <td>-5   </td>\n",
       "        </tr>\n",
       "        <tr>\n",
       "            <td>6545 </td> <td>7/14/15</td> <td>1751         </td> <td>LAS        </td> <td>0    </td>\n",
       "        </tr>\n",
       "        <tr>\n",
       "            <td>11007</td> <td>8/12/15</td> <td>1670         </td> <td>HNL        </td> <td>5    </td>\n",
       "        </tr>\n",
       "        <tr>\n",
       "            <td>7666 </td> <td>7/22/15</td> <td>525          </td> <td>LAS        </td> <td>29   </td>\n",
       "        </tr>\n",
       "    </tbody>\n",
       "</table>\n",
       "<p>... (10 rows omitted)</p>"
      ],
      "text/plain": [
       "Row   | Date    | Flight Number | Destination | Delay\n",
       "13210 | 8/27/15 | 1602          | ATL         | -4\n",
       "7820  | 7/23/15 | 477           | ORD         | -3\n",
       "4986  | 7/4/15  | 1159          | CLE         | -1\n",
       "1573  | 6/11/15 | 1111          | EWR         | 3\n",
       "7350  | 7/20/15 | 579           | DEN         | -3\n",
       "2375  | 6/16/15 | 1725          | OGG         | -2\n",
       "5966  | 7/10/15 | 1946          | BOS         | -5\n",
       "6545  | 7/14/15 | 1751          | LAS         | 0\n",
       "11007 | 8/12/15 | 1670          | HNL         | 5\n",
       "7666  | 7/22/15 | 525           | LAS         | 29\n",
       "... (10 rows omitted)"
      ]
     },
     "execution_count": 12,
     "metadata": {},
     "output_type": "execute_result"
    }
   ],
   "source": [
    "united.sample(20, with_replacement=False)"
   ]
  },
  {
   "cell_type": "markdown",
   "metadata": {},
   "source": [
    "## Distributions ##"
   ]
  },
  {
   "cell_type": "code",
   "execution_count": 13,
   "metadata": {},
   "outputs": [
    {
     "data": {
      "text/html": [
       "<table border=\"1\" class=\"dataframe\">\n",
       "    <thead>\n",
       "        <tr>\n",
       "            <th>Face</th>\n",
       "        </tr>\n",
       "    </thead>\n",
       "    <tbody>\n",
       "        <tr>\n",
       "            <td>1   </td>\n",
       "        </tr>\n",
       "        <tr>\n",
       "            <td>2   </td>\n",
       "        </tr>\n",
       "        <tr>\n",
       "            <td>3   </td>\n",
       "        </tr>\n",
       "        <tr>\n",
       "            <td>4   </td>\n",
       "        </tr>\n",
       "        <tr>\n",
       "            <td>5   </td>\n",
       "        </tr>\n",
       "        <tr>\n",
       "            <td>6   </td>\n",
       "        </tr>\n",
       "    </tbody>\n",
       "</table>"
      ],
      "text/plain": [
       "Face\n",
       "1\n",
       "2\n",
       "3\n",
       "4\n",
       "5\n",
       "6"
      ]
     },
     "execution_count": 13,
     "metadata": {},
     "output_type": "execute_result"
    }
   ],
   "source": [
    "dice = Table().with_column('Face', np.arange(1, 7))\n",
    "dice"
   ]
  },
  {
   "cell_type": "code",
   "execution_count": 14,
   "metadata": {},
   "outputs": [
    {
     "data": {
      "text/html": [
       "<table border=\"1\" class=\"dataframe\">\n",
       "    <thead>\n",
       "        <tr>\n",
       "            <th>Face</th>\n",
       "        </tr>\n",
       "    </thead>\n",
       "    <tbody>\n",
       "        <tr>\n",
       "            <td>4   </td>\n",
       "        </tr>\n",
       "        <tr>\n",
       "            <td>2   </td>\n",
       "        </tr>\n",
       "        <tr>\n",
       "            <td>3   </td>\n",
       "        </tr>\n",
       "        <tr>\n",
       "            <td>2   </td>\n",
       "        </tr>\n",
       "        <tr>\n",
       "            <td>1   </td>\n",
       "        </tr>\n",
       "        <tr>\n",
       "            <td>5   </td>\n",
       "        </tr>\n",
       "        <tr>\n",
       "            <td>1   </td>\n",
       "        </tr>\n",
       "        <tr>\n",
       "            <td>5   </td>\n",
       "        </tr>\n",
       "        <tr>\n",
       "            <td>1   </td>\n",
       "        </tr>\n",
       "        <tr>\n",
       "            <td>1   </td>\n",
       "        </tr>\n",
       "    </tbody>\n",
       "</table>"
      ],
      "text/plain": [
       "Face\n",
       "4\n",
       "2\n",
       "3\n",
       "2\n",
       "1\n",
       "5\n",
       "1\n",
       "5\n",
       "1\n",
       "1"
      ]
     },
     "execution_count": 14,
     "metadata": {},
     "output_type": "execute_result"
    }
   ],
   "source": [
    "dice.sample(10)"
   ]
  },
  {
   "cell_type": "code",
   "execution_count": 15,
   "metadata": {},
   "outputs": [],
   "source": [
    "roll_bins = np.arange(0.5, 6.6, 1)"
   ]
  },
  {
   "cell_type": "code",
   "execution_count": 16,
   "metadata": {},
   "outputs": [
    {
     "data": {
      "image/png": "[encoded data removed]",
      "text/plain": [
       "<Figure size 432x288 with 1 Axes>"
      ]
     },
     "metadata": {},
     "output_type": "display_data"
    }
   ],
   "source": [
    "dice.hist(bins=roll_bins)"
   ]
  },
  {
   "cell_type": "code",
   "execution_count": 17,
   "metadata": {},
   "outputs": [
    {
     "data": {
      "image/png": "[encoded data removed]",
      "text/plain": [
       "<Figure size 432x288 with 1 Axes>"
      ]
     },
     "metadata": {},
     "output_type": "display_data"
    }
   ],
   "source": [
    "dice.sample(10).hist(bins=roll_bins)"
   ]
  },
  {
   "cell_type": "code",
   "execution_count": 18,
   "metadata": {},
   "outputs": [
    {
     "data": {
      "image/png": "[encoded data removed]",
      "text/plain": [
       "<Figure size 432x288 with 1 Axes>"
      ]
     },
     "metadata": {},
     "output_type": "display_data"
    }
   ],
   "source": [
    "dice.sample(1000).hist(bins=roll_bins)"
   ]
  },
  {
   "cell_type": "code",
   "execution_count": 19,
   "metadata": {},
   "outputs": [
    {
     "data": {
      "image/png": "[encoded data removed]",
      "text/plain": [
       "<Figure size 432x288 with 1 Axes>"
      ]
     },
     "metadata": {},
     "output_type": "display_data"
    }
   ],
   "source": [
    "dice.sample(100000).hist(bins=roll_bins)"
   ]
  },
  {
   "cell_type": "code",
   "execution_count": 20,
   "metadata": {},
   "outputs": [
    {
     "data": {
      "image/png": "[encoded data removed]",
      "text/plain": [
       "<Figure size 432x288 with 1 Axes>"
      ]
     },
     "metadata": {},
     "output_type": "display_data"
    }
   ],
   "source": [
    "dice.sample(1000000).hist(bins=roll_bins)"
   ]
  },
  {
   "cell_type": "markdown",
   "metadata": {},
   "source": [
    "## Large Random Samples ##"
   ]
  },
  {
   "cell_type": "code",
   "execution_count": 22,
   "metadata": {},
   "outputs": [
    {
     "data": {
      "text/html": [
       "<table border=\"1\" class=\"dataframe\">\n",
       "    <thead>\n",
       "        <tr>\n",
       "            <th>Row</th> <th>Date</th> <th>Flight Number</th> <th>Destination</th> <th>Delay</th>\n",
       "        </tr>\n",
       "    </thead>\n",
       "    <tbody>\n",
       "        <tr>\n",
       "            <td>0   </td> <td>6/1/15</td> <td>73           </td> <td>HNL        </td> <td>257  </td>\n",
       "        </tr>\n",
       "        <tr>\n",
       "            <td>1   </td> <td>6/1/15</td> <td>217          </td> <td>EWR        </td> <td>28   </td>\n",
       "        </tr>\n",
       "        <tr>\n",
       "            <td>2   </td> <td>6/1/15</td> <td>237          </td> <td>STL        </td> <td>-3   </td>\n",
       "        </tr>\n",
       "        <tr>\n",
       "            <td>3   </td> <td>6/1/15</td> <td>250          </td> <td>SAN        </td> <td>0    </td>\n",
       "        </tr>\n",
       "        <tr>\n",
       "            <td>4   </td> <td>6/1/15</td> <td>267          </td> <td>PHL        </td> <td>64   </td>\n",
       "        </tr>\n",
       "        <tr>\n",
       "            <td>5   </td> <td>6/1/15</td> <td>273          </td> <td>SEA        </td> <td>-6   </td>\n",
       "        </tr>\n",
       "        <tr>\n",
       "            <td>6   </td> <td>6/1/15</td> <td>278          </td> <td>SEA        </td> <td>-8   </td>\n",
       "        </tr>\n",
       "        <tr>\n",
       "            <td>7   </td> <td>6/1/15</td> <td>292          </td> <td>EWR        </td> <td>12   </td>\n",
       "        </tr>\n",
       "        <tr>\n",
       "            <td>8   </td> <td>6/1/15</td> <td>300          </td> <td>HNL        </td> <td>20   </td>\n",
       "        </tr>\n",
       "        <tr>\n",
       "            <td>9   </td> <td>6/1/15</td> <td>317          </td> <td>IND        </td> <td>-10  </td>\n",
       "        </tr>\n",
       "    </tbody>\n",
       "</table>\n",
       "<p>... (13815 rows omitted)</p>"
      ],
      "text/plain": [
       "Row  | Date   | Flight Number | Destination | Delay\n",
       "0    | 6/1/15 | 73            | HNL         | 257\n",
       "1    | 6/1/15 | 217           | EWR         | 28\n",
       "2    | 6/1/15 | 237           | STL         | -3\n",
       "3    | 6/1/15 | 250           | SAN         | 0\n",
       "4    | 6/1/15 | 267           | PHL         | 64\n",
       "5    | 6/1/15 | 273           | SEA         | -6\n",
       "6    | 6/1/15 | 278           | SEA         | -8\n",
       "7    | 6/1/15 | 292           | EWR         | 12\n",
       "8    | 6/1/15 | 300           | HNL         | 20\n",
       "9    | 6/1/15 | 317           | IND         | -10\n",
       "... (13815 rows omitted)"
      ]
     },
     "execution_count": 22,
     "metadata": {},
     "output_type": "execute_result"
    }
   ],
   "source": [
    "#Start here 10/19\n",
    "united "
   ]
  },
  {
   "cell_type": "code",
   "execution_count": 23,
   "metadata": {},
   "outputs": [
    {
     "data": {
      "image/png": "[encoded data removed]",
      "text/plain": [
       "<Figure size 432x288 with 1 Axes>"
      ]
     },
     "metadata": {},
     "output_type": "display_data"
    }
   ],
   "source": [
    "united_bins = np.arange(-20, 201, 5)\n",
    "united.hist('Delay', bins = united_bins)"
   ]
  },
  {
   "cell_type": "code",
   "execution_count": 24,
   "metadata": {},
   "outputs": [
    {
     "data": {
      "text/plain": [
       "-16"
      ]
     },
     "execution_count": 24,
     "metadata": {},
     "output_type": "execute_result"
    }
   ],
   "source": [
    "min(united.column('Delay'))"
   ]
  },
  {
   "cell_type": "code",
   "execution_count": 25,
   "metadata": {},
   "outputs": [
    {
     "data": {
      "text/plain": [
       "580"
      ]
     },
     "execution_count": 25,
     "metadata": {},
     "output_type": "execute_result"
    }
   ],
   "source": [
    "max(united.column('Delay'))"
   ]
  },
  {
   "cell_type": "code",
   "execution_count": 26,
   "metadata": {},
   "outputs": [
    {
     "data": {
      "text/plain": [
       "16.658155515370705"
      ]
     },
     "execution_count": 26,
     "metadata": {},
     "output_type": "execute_result"
    }
   ],
   "source": [
    "np.average(united.column('Delay'))"
   ]
  },
  {
   "cell_type": "code",
   "execution_count": 27,
   "metadata": {},
   "outputs": [
    {
     "data": {
      "image/png": "[encoded data removed]",
      "text/plain": [
       "<Figure size 432x288 with 1 Axes>"
      ]
     },
     "metadata": {},
     "output_type": "display_data"
    }
   ],
   "source": [
    "united.sample(10).hist('Delay', bins = united_bins)"
   ]
  },
  {
   "cell_type": "code",
   "execution_count": 30,
   "metadata": {},
   "outputs": [
    {
     "data": {
      "image/png": "[encoded data removed]",
      "text/plain": [
       "<Figure size 432x288 with 1 Axes>"
      ]
     },
     "metadata": {},
     "output_type": "display_data"
    }
   ],
   "source": [
    "united.sample(1000).hist('Delay', bins = united_bins)"
   ]
  },
  {
   "cell_type": "code",
   "execution_count": null,
   "metadata": {},
   "outputs": [],
   "source": []
  }
 ],
 "metadata": {
  "anaconda-cloud": {},
  "kernelspec": {
   "display_name": "Python 3 (ipykernel)",
   "language": "python",
   "name": "python3"
  },
  "language_info": {
   "codemirror_mode": {
    "name": "ipython",
    "version": 3
   },
   "file_extension": ".py",
   "mimetype": "text/x-python",
   "name": "python",
   "nbconvert_exporter": "python",
   "pygments_lexer": "ipython3",
   "version": "3.9.6"
  }
 },
 "nbformat": 4,
 "nbformat_minor": 4
}
