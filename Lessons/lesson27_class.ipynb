{
 "cells": [
  {
   "cell_type": "code",
   "execution_count": null,
   "metadata": {
    "id": "Z9Yyb7vEQAPL"
   },
   "outputs": [],
   "source": [
    "import matplotlib\n",
    "from datascience import *\n",
    "%matplotlib inline\n",
    "import matplotlib.pyplot as plots\n",
    "import numpy as np\n",
    "plots.style.use('fivethirtyeight')"
   ]
  },
  {
   "cell_type": "markdown",
   "metadata": {
    "id": "QJGRXHuWQAPe"
   },
   "source": [
    "## Loading in the Data and Functions"
   ]
  },
  {
   "cell_type": "code",
   "execution_count": null,
   "metadata": {
    "id": "2aLVG45mQAPf"
   },
   "outputs": [],
   "source": [
    "united = Table.read_table('data/united.csv')\n",
    "united_bins = np.arange(-20, 300, 10)\n",
    "united.show(5)"
   ]
  },
  {
   "cell_type": "code",
   "execution_count": null,
   "metadata": {},
   "outputs": [],
   "source": [
    "#find the average of the delay times\n",
    "...\n"
   ]
  },
  {
   "cell_type": "code",
   "execution_count": null,
   "metadata": {
    "id": "p1pd2bpWQAPo"
   },
   "outputs": [],
   "source": [
    "# We did this before, but let's do it again! :smile:\n",
    "def one_sample_mean(sample_size):\n",
    "    \"\"\" Takes a sample from the population of flights and computes its mean\"\"\"\n",
    "    ...\n",
    "    return ..."
   ]
  },
  {
   "cell_type": "code",
   "execution_count": null,
   "metadata": {
    "id": "VLAn8sjHQAPs"
   },
   "outputs": [],
   "source": [
    "#use our function one_sample_mean and run it 10000 times\n",
    "def ten_thousand_sample_means(sample_size):\n",
    "    means = make_array()\n",
    "    for... \n",
    "        mean = ...\n",
    "        means = ...\n",
    "    return ..."
   ]
  },
  {
   "cell_type": "markdown",
   "metadata": {
    "id": "JZL4Jw_OQAP7"
   },
   "source": [
    "## Distribution of the Sample Average"
   ]
  },
  {
   "cell_type": "code",
   "execution_count": null,
   "metadata": {
    "id": "ImB9Ijv8QAQC"
   },
   "outputs": [],
   "source": [
    "# How many possible sample means are there?\n",
    "13825 ** 400\n",
    "\n",
    "#the population is 13825 and the sample size is 400... this tells us \n",
    "#how many possible outcomes we would have when we take a sample size\n",
    "#of 400 from a population of 13825 this is a permutation where \n",
    "#order matters, different order give a different outcome"
   ]
  },
  {
   "cell_type": "code",
   "execution_count": null,
   "metadata": {},
   "outputs": [],
   "source": [
    "# create a histogram of delays\n",
    "..."
   ]
  },
  {
   "cell_type": "code",
   "execution_count": null,
   "metadata": {
    "id": "4LXdMd9FQAP8"
   },
   "outputs": [],
   "source": [
    "#create a new table means_table that has columns for sample sizes of\n",
    "#100, 256, 400, 625, 900 (the column title, whose output is \n",
    "#the result of using the ten_thousand_sample_means functions \n",
    "#with the respective sample sizes\n",
    "means_tbl = ..."
   ]
  },
  {
   "cell_type": "code",
   "execution_count": null,
   "metadata": {},
   "outputs": [],
   "source": [
    "means_tbl"
   ]
  },
  {
   "cell_type": "code",
   "execution_count": null,
   "metadata": {
    "id": "2tR9UdO4QAP-"
   },
   "outputs": [],
   "source": [
    "#create a histogram for means_tbl\n",
    "...\n",
    "plots.title('Distribution of Sample Average');"
   ]
  },
  {
   "cell_type": "markdown",
   "metadata": {},
   "source": [
    "## Variability of the Sample Average"
   ]
  },
  {
   "cell_type": "code",
   "execution_count": null,
   "metadata": {
    "id": "iwqJDMe5QAQF"
   },
   "outputs": [],
   "source": [
    "#determine the mean and standard deviation for delay times\n",
    "delay_mean = ...\n",
    "delay_sd = ..."
   ]
  },
  {
   "cell_type": "code",
   "execution_count": null,
   "metadata": {},
   "outputs": [],
   "source": [
    "delay_mean"
   ]
  },
  {
   "cell_type": "code",
   "execution_count": null,
   "metadata": {},
   "outputs": [],
   "source": [
    "delay_sd"
   ]
  },
  {
   "cell_type": "code",
   "execution_count": null,
   "metadata": {
    "id": "6EacWz2uQAQI"
   },
   "outputs": [],
   "source": [
    "\"\"\"Empirical distribution of random sample means\"\"\"\n",
    "\n",
    "def summarize_sample_means():\n",
    "        \n",
    "    print(\"Population mean:\", ...)\n",
    "    print(\"Population SD:\", ...)\n",
    "    \n",
    "    for i in np.arange(len(means_tbl)):\n",
    "        print('')\n",
    "        print(\"Sample size: \", means_tbl.labels[i])\n",
    "        print(\"Average of sample means: \", np.mean(means_tbl.column(i)))\n",
    "        print(\"SD of sample means:\", np.std(means_tbl.column(i)))\n",
    "        print(\"Ratio of Pop SD to SD of sample means\", delay_sd / np.std(means_tbl.column(i)))"
   ]
  },
  {
   "cell_type": "code",
   "execution_count": null,
   "metadata": {},
   "outputs": [],
   "source": [
    "summarize_sample_means()"
   ]
  }
 ],
 "metadata": {
  "anaconda-cloud": {},
  "colab": {
   "name": "lec27.ipynb",
   "provenance": []
  },
  "kernelspec": {
   "display_name": "Python 3 (ipykernel)",
   "language": "python",
   "name": "python3"
  },
  "language_info": {
   "codemirror_mode": {
    "name": "ipython",
    "version": 3
   },
   "file_extension": ".py",
   "mimetype": "text/x-python",
   "name": "python",
   "nbconvert_exporter": "python",
   "pygments_lexer": "ipython3",
   "version": "3.9.6"
  }
 },
 "nbformat": 4,
 "nbformat_minor": 4
}
