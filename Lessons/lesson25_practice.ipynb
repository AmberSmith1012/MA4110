{
 "cells": [
  {
   "cell_type": "code",
   "execution_count": null,
   "metadata": {},
   "outputs": [],
   "source": [
    "from datascience import *\n",
    "%matplotlib inline\n",
    "import matplotlib.pyplot as plots\n",
    "plots.style.use('fivethirtyeight')\n",
    "import numpy as np"
   ]
  },
  {
   "cell_type": "markdown",
   "metadata": {
    "tags": []
   },
   "source": [
    "## Average (Mean) ##"
   ]
  },
  {
   "cell_type": "code",
   "execution_count": null,
   "metadata": {},
   "outputs": [],
   "source": [
    "values = make_array(2, 3, 3, 9)"
   ]
  },
  {
   "cell_type": "code",
   "execution_count": null,
   "metadata": {},
   "outputs": [],
   "source": [
    "# Calculate the mean the \"long way\"\n",
    "..."
   ]
  },
  {
   "cell_type": "code",
   "execution_count": null,
   "metadata": {},
   "outputs": [],
   "source": [
    "# Calculate the mean using a numpy function\n",
    "..."
   ]
  },
  {
   "cell_type": "code",
   "execution_count": null,
   "metadata": {},
   "outputs": [],
   "source": [
    "# Calculate the mean using another numpy function\n",
    "..."
   ]
  },
  {
   "cell_type": "code",
   "execution_count": null,
   "metadata": {},
   "outputs": [],
   "source": [
    "# Calculate the mean by typing out your data, but that's probably not wise.\n",
    "..."
   ]
  },
  {
   "cell_type": "code",
   "execution_count": null,
   "metadata": {},
   "outputs": [],
   "source": [
    "values_table = Table().with_columns('value', values)\n",
    "values_table"
   ]
  },
  {
   "cell_type": "code",
   "execution_count": null,
   "metadata": {},
   "outputs": [],
   "source": [
    "bins_for_display = np.arange(0.5, 10.6, 1)\n",
    "values_table.hist(0, bins = bins_for_display)\n",
    "plots.scatter(np.mean(values),-1e-2,color=\"red\", marker=\"^\", zorder=2);\n",
    "plots.scatter(percentile(50, values),-1e-2,color=\"blue\", marker=\"^\", zorder=2);"
   ]
  },
  {
   "cell_type": "markdown",
   "metadata": {},
   "source": [
    "### Discussion Question"
   ]
  },
  {
   "cell_type": "code",
   "execution_count": null,
   "metadata": {},
   "outputs": [],
   "source": [
    "nba = Table.read_table('data/nba2013.csv')\n",
    "nba"
   ]
  },
  {
   "cell_type": "code",
   "execution_count": null,
   "metadata": {},
   "outputs": [],
   "source": [
    "nba.hist('Height', bins=np.arange(65.5, 90.5))"
   ]
  },
  {
   "cell_type": "code",
   "execution_count": null,
   "metadata": {},
   "outputs": [],
   "source": [
    "# Find the median height\n",
    "... "
   ]
  },
  {
   "cell_type": "code",
   "execution_count": null,
   "metadata": {},
   "outputs": [],
   "source": [
    "# Find the average height\n",
    "..."
   ]
  },
  {
   "cell_type": "markdown",
   "metadata": {},
   "source": [
    "## Standard Deviation ##"
   ]
  },
  {
   "cell_type": "code",
   "execution_count": null,
   "metadata": {},
   "outputs": [],
   "source": [
    "# Create a table sd_table with the column name Value that uses the \n",
    "# data from the list values\n",
    "... "
   ]
  },
  {
   "cell_type": "code",
   "execution_count": null,
   "metadata": {},
   "outputs": [],
   "source": [
    "# Find the average of the values in the table sd_table\n",
    "... "
   ]
  },
  {
   "cell_type": "code",
   "execution_count": null,
   "metadata": {},
   "outputs": [],
   "source": [
    "# Calculate the deviations (the difference between each value and the\n",
    "#average value of the data set) and assign it to deviations\n",
    "# add a column Deviation to the table sd_table, using the values from\n",
    "#deviations\n",
    "..."
   ]
  },
  {
   "cell_type": "code",
   "execution_count": null,
   "metadata": {},
   "outputs": [],
   "source": [
    "# find the total of the dviation values\n",
    "... "
   ]
  },
  {
   "cell_type": "code",
   "execution_count": null,
   "metadata": {},
   "outputs": [],
   "source": [
    "# add a column to the table sd_table labeled Squared Deviation, using the\n",
    "# values created by squaring the deviations\n",
    "... "
   ]
  },
  {
   "cell_type": "code",
   "execution_count": null,
   "metadata": {},
   "outputs": [],
   "source": [
    "# Variance of the data\n",
    "# Find the variance of the data by adding up the values of the \n",
    "#squared deviation and dividing by the number of values added\n",
    "... "
   ]
  },
  {
   "cell_type": "code",
   "execution_count": null,
   "metadata": {},
   "outputs": [],
   "source": [
    "# Standard Deviation (SD) is the square root of the variance\n",
    "#68 - 95 - 99.7\n",
    "sd = variance ** 0.5\n",
    "sd"
   ]
  },
  {
   "cell_type": "code",
   "execution_count": null,
   "metadata": {},
   "outputs": [],
   "source": [
    "# There is a built in numpy function that will do all of this for us! -std\n"
   ]
  },
  {
   "cell_type": "markdown",
   "metadata": {
    "id": "fscO46FtP8VR"
   },
   "source": [
    "## Chebyshev's Bounds"
   ]
  },
  {
   "cell_type": "code",
   "execution_count": null,
   "metadata": {
    "id": "yrIV2uo1P8VS"
   },
   "outputs": [],
   "source": [
    "births = Table.read_table('data/baby.csv').drop('Maternal Smoker')\n",
    "births.show(3)"
   ]
  },
  {
   "cell_type": "code",
   "execution_count": null,
   "metadata": {
    "id": "VN8pdqV6P8VX"
   },
   "outputs": [],
   "source": [
    "births.hist(overlay = False)"
   ]
  },
  {
   "cell_type": "code",
   "execution_count": null,
   "metadata": {
    "id": "3AcgRBabP8VZ"
   },
   "outputs": [],
   "source": [
    "mpw = births.column('Maternal Pregnancy Weight')\n",
    "mean = np.mean(mpw)\n",
    "sd = np.std(mpw)\n",
    "mean, sd"
   ]
  },
  {
   "cell_type": "code",
   "execution_count": null,
   "metadata": {
    "id": "OkXOgJTQP8Vd"
   },
   "outputs": [],
   "source": [
    "within_3_SDs = births.where('Maternal Pregnancy Weight', are.between(mean - 3*sd, mean + 3*sd))\n",
    "within_3_SDs"
   ]
  },
  {
   "cell_type": "code",
   "execution_count": null,
   "metadata": {
    "id": "KvXKVRwsP8Vf"
   },
   "outputs": [],
   "source": [
    "# Proportion within 3 SDs of the mean\n",
    "\n",
    "within_3_SDs.num_rows / births.num_rows"
   ]
  },
  {
   "cell_type": "code",
   "execution_count": null,
   "metadata": {
    "id": "s4R7Z1AbP8Vh"
   },
   "outputs": [],
   "source": [
    "# Chebyshev's bound: \n",
    "# The proportion we calculated above should be at least\n",
    "\n",
    "1 - 1/(3**2)"
   ]
  },
  {
   "cell_type": "code",
   "execution_count": null,
   "metadata": {
    "id": "FJlVk2PzP8Vj"
   },
   "outputs": [],
   "source": [
    "births.labels"
   ]
  },
  {
   "cell_type": "code",
   "execution_count": null,
   "metadata": {
    "id": "psA26wWDP8Vl"
   },
   "outputs": [],
   "source": [
    "# See if Chebyshev's bounds work for distributions with various shapes\n",
    "\n",
    "for feature in births.labels:\n",
    "    values = births.column(feature)\n",
    "    mean = np.mean(values)\n",
    "    sd = np.std(values)\n",
    "    print()\n",
    "    print(feature)\n",
    "    for z in make_array(2, 3, 4, 5):\n",
    "        chosen = births.where(feature, are.between(mean - z*sd, mean + z*sd))\n",
    "        proportion = chosen.num_rows / births.num_rows\n",
    "        percent = round(proportion * 100, 2)\n",
    "        print('Average plus or minus', z, 'SDs:', percent, '% of the data')"
   ]
  },
  {
   "cell_type": "code",
   "execution_count": null,
   "metadata": {},
   "outputs": [],
   "source": []
  }
 ],
 "metadata": {
  "anaconda-cloud": {},
  "kernelspec": {
   "display_name": "Python 3 (ipykernel)",
   "language": "python",
   "name": "python3"
  },
  "language_info": {
   "codemirror_mode": {
    "name": "ipython",
    "version": 3
   },
   "file_extension": ".py",
   "mimetype": "text/x-python",
   "name": "python",
   "nbconvert_exporter": "python",
   "pygments_lexer": "ipython3",
   "version": "3.9.6"
  }
 },
 "nbformat": 4,
 "nbformat_minor": 4
}
